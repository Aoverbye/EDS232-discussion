{
 "cells": [
  {
   "cell_type": "markdown",
   "id": "d72a69a9-2c8f-455f-8ea6-812976352c68",
   "metadata": {},
   "source": [
    "# Discussion Section, Week 1"
   ]
  },
  {
   "cell_type": "code",
   "execution_count": 18,
   "id": "aa4f9635-2d02-452b-b79d-36a31e11eb87",
   "metadata": {
    "tags": []
   },
   "outputs": [],
   "source": [
    "import numpy as np \n",
    "import pandas as pd\n",
    "import matplotlib.pyplot as plt\n",
    "from sklearn.model_selection import train_test_split\n",
    "from sklearn.linear_model import LinearRegression\n",
    "from sklearn.metrics import mean_squared_error, r2_score\n",
    "import sklearn.linear_model\n",
    "from sklearn.preprocessing import PolynomialFeatures\n",
    "\n",
    "np.random.seed(42)"
   ]
  },
  {
   "cell_type": "code",
   "execution_count": 52,
   "id": "2c14e6cf-adcc-4260-8e14-c25cac027088",
   "metadata": {
    "tags": []
   },
   "outputs": [],
   "source": [
    "file_path = 'EDS232-discussion/Hurricane_Irene_and_the_Hudson_River_do.xlsx'\n",
    "do_data = pd.read_excel('EDS232-discussion/Hurricane_Irene_and_the_Hudson_River_do.xlsx', sheet_name=5).drop(['Piermont D.O. (ppm)'], axis = 1)\n",
    "\n",
    "rainfall_data = pd.read_excel(file_path, sheet_name=1).drop(['Piermont  Rainfall Daily Accumulation (Inches)'], axis = 1)\n",
    "\n",
    "turbidity_data = pd.read_excel(file_path, sheet_name='Turbidity').drop(['Piermont Turbidity in NTU'], axis = 1)\n",
    "\n",
    "#df = pd.merge(hurricane_do, hurricane_turbidity)"
   ]
  },
  {
   "cell_type": "code",
   "execution_count": 55,
   "id": "56b14b38-9f2f-4633-8f3e-9c0a7ed7414b",
   "metadata": {
    "tags": []
   },
   "outputs": [],
   "source": [
    "data = do_data.merge(rainfall_data)\n",
    "data = data.merge(turbidity_data)"
   ]
  },
  {
   "cell_type": "code",
   "execution_count": 56,
   "id": "5d41c521-6240-46af-a7ab-a84b436cc768",
   "metadata": {
    "tags": []
   },
   "outputs": [
    {
     "data": {
      "text/plain": [
       "Index(['Date Time (ET)', ' Port of Albany D.O. (ppm)',\n",
       "       'Norrie Point D.O. (ppm)',\n",
       "       ' Port of Albany Rainfall Daily Accumulation (Inches)',\n",
       "       'Norrie Point  Rainfall Daily Accumulation (Inches)',\n",
       "       ' Port of Albany Turbidity in NTU', 'Norrie Point Turbidity in NTU'],\n",
       "      dtype='object')"
      ]
     },
     "execution_count": 56,
     "metadata": {},
     "output_type": "execute_result"
    }
   ],
   "source": [
    "data.columns"
   ]
  },
  {
   "cell_type": "markdown",
   "id": "1fb2edfd-73b3-42df-a32f-deebf63e3614",
   "metadata": {},
   "source": [
    "#rmse = percentage of difference"
   ]
  },
  {
   "cell_type": "code",
   "execution_count": 57,
   "id": "2dfac637-b123-4cee-b081-e2837d826837",
   "metadata": {
    "tags": []
   },
   "outputs": [
    {
     "ename": "NameError",
     "evalue": "name 'y_test' is not defined",
     "output_type": "error",
     "traceback": [
      "\u001b[0;31m---------------------------------------------------------------------------\u001b[0m",
      "\u001b[0;31mNameError\u001b[0m                                 Traceback (most recent call last)",
      "Cell \u001b[0;32mIn[57], line 1\u001b[0m\n\u001b[0;32m----> 1\u001b[0m r2 \u001b[38;5;241m=\u001b[39m r2_score(\u001b[43my_test\u001b[49m, y_pred)\n",
      "\u001b[0;31mNameError\u001b[0m: name 'y_test' is not defined"
     ]
    }
   ],
   "source": [
    "\n",
    "r2 = r2_score(y_test, y_pred)"
   ]
  },
  {
   "cell_type": "code",
   "execution_count": 60,
   "id": "a6150196-4536-4f51-aa6a-4745be5247ae",
   "metadata": {
    "tags": []
   },
   "outputs": [
    {
     "ename": "NameError",
     "evalue": "name 'widgets' is not defined",
     "output_type": "error",
     "traceback": [
      "\u001b[0;31m---------------------------------------------------------------------------\u001b[0m",
      "\u001b[0;31mNameError\u001b[0m                                 Traceback (most recent call last)",
      "Cell \u001b[0;32mIn[60], line 1\u001b[0m\n\u001b[0;32m----> 1\u001b[0m predictor_selector \u001b[38;5;241m=\u001b[39m \u001b[43mwidgets\u001b[49m\u001b[38;5;241m.\u001b[39mSelectMultiple(\n\u001b[1;32m      2\u001b[0m     options \u001b[38;5;241m=\u001b[39m data\u001b[38;5;241m.\u001b[39mcolumns,\n\u001b[1;32m      3\u001b[0m     value \u001b[38;5;241m=\u001b[39m data\u001b[38;5;241m/\u001b[39mcolumns[\u001b[38;5;241m0\u001b[39m],\n\u001b[1;32m      4\u001b[0m     description \u001b[38;5;241m=\u001b[39m \u001b[38;5;124m'\u001b[39m\u001b[38;5;124mPredictors\u001b[39m\u001b[38;5;124m'\u001b[39m\n\u001b[1;32m      5\u001b[0m )\n\u001b[1;32m      7\u001b[0m target_selector \u001b[38;5;241m=\u001b[39m widgets\u001b[38;5;241m.\u001b[39mDropdown(\n\u001b[1;32m      8\u001b[0m     options \u001b[38;5;241m=\u001b[39m data\u001b[38;5;241m.\u001b[39mcolumns,\n\u001b[1;32m      9\u001b[0m     value \u001b[38;5;241m=\u001b[39m data\u001b[38;5;241m.\u001b[39mcolumns[\u001b[38;5;241m1\u001b[39m],\n\u001b[1;32m     10\u001b[0m     description \u001b[38;5;241m=\u001b[39m \u001b[38;5;124m'\u001b[39m\u001b[38;5;124mTarget\u001b[39m\u001b[38;5;124m'\u001b[39m)\n\u001b[1;32m     12\u001b[0m evaluate_button \u001b[38;5;241m=\u001b[39m widgets\u001b[38;5;241m.\u001b[39mButton(description \u001b[38;5;241m=\u001b[39m \u001b[38;5;124m\"\u001b[39m\u001b[38;5;124mEvaluate Model\u001b[39m\u001b[38;5;124m\"\u001b[39m)\n",
      "\u001b[0;31mNameError\u001b[0m: name 'widgets' is not defined"
     ]
    }
   ],
   "source": [
    "predictor_selector = widgets.SelectMultiple(\n",
    "    options = data.columns,\n",
    "    value = data/columns[0],\n",
    "    description = 'Predictors'\n",
    ")\n",
    "\n",
    "target_selector = widgets.Dropdown(\n",
    "    options = data.columns,\n",
    "    value = data.columns[1],\n",
    "    description = 'Target')\n",
    "\n",
    "evaluate_button = widgets.Button(description = \"Evaluate Model\")\n",
    "\n",
    "# Output widget to display results\n",
    "output = widgets.Output()\n",
    "\n",
    "def evaluate_model(b):\n",
    "    with output:\n",
    "        clear_output(wait=True) #clear display area\n",
    "        selected_predictors = [item for item in predictor_selector.value]\n",
    "        if target_selector.value in selected_predictors:\n",
    "            print(\"Target variable must not be in the predictors.\")\n",
    "            return\n",
    "        \n",
    "        x = data[[select_predictors]]\n",
    "        y = data[[arget_selectors.value]]\n",
    "        \n",
    "        x_train...\n",
    "        \n",
    "        model = linearRegression()\n",
    "        model.fit(xtrain, y_train)\n",
    "        \n",
    "        y_pred = model.predict(X_test)\n",
    "        r"
   ]
  }
 ],
 "metadata": {
  "kernelspec": {
   "display_name": "Anaconda 3 (EDS232)",
   "language": "python",
   "name": "ml-env"
  },
  "language_info": {
   "codemirror_mode": {
    "name": "ipython",
    "version": 3
   },
   "file_extension": ".py",
   "mimetype": "text/x-python",
   "name": "python",
   "nbconvert_exporter": "python",
   "pygments_lexer": "ipython3",
   "version": "3.10.16"
  }
 },
 "nbformat": 4,
 "nbformat_minor": 5
}
