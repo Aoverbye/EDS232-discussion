{
 "cells": [
  {
   "cell_type": "code",
   "execution_count": 14,
   "id": "b55f0f74-5287-49d1-88cc-c5fd1b524597",
   "metadata": {
    "tags": []
   },
   "outputs": [],
   "source": [
    "# Import necessary libraries\n",
    "import numpy as np\n",
    "import pandas as pd\n",
    "import matplotlib.pyplot as plt\n",
    "from sklearn.model_selection import train_test_split\n",
    "from sklearn.linear_model import Lasso, Ridge\n",
    "from sklearn.metrics import mean_squared_error, r2_score\n",
    "from ipywidgets import interact, FloatLogSlider\n",
    "\n",
    "# Generate data\n",
    "np.random.seed(42)\n",
    "n_samples = 200\n",
    "X = np.zeros((n_samples, 6))\n",
    "X[:, 0] = np.random.normal(0, 1, n_samples)  # X1 - Important feature\n",
    "X[:, 1] = np.random.normal(0, 1, n_samples)  # X2 -  Important feature\n",
    "X[:, 2] = X[:, 0] + np.random.normal(0, 0.1, n_samples)  # Correlated with X1\n",
    "X[:, 3] = X[:, 1] + np.random.normal(0, 0.1, n_samples)  # Correlated with X2\n",
    "X[:, 4] = np.random.normal(0, 0.1, n_samples)  # Noise\n",
    "X[:, 5] = np.random.normal(0, 0.1, n_samples)  # Noise\n",
    "\n",
    "y = 3 * X[:, 0] + 2 * X[:, 1] + 0.5 * X[:, 2] + np.random.normal(0, 0.1, n_samples) "
   ]
  },
  {
   "cell_type": "code",
   "execution_count": 3,
   "id": "58817d82-128c-4bb9-a259-c5c6f46c4dc8",
   "metadata": {
    "tags": []
   },
   "outputs": [],
   "source": [
    "# Split data into training and testing sets\n",
    "X_train, X_test, y_train, y_test = train_test_split(X, y, test_size = 0.3, random_state = 42)\n"
   ]
  },
  {
   "cell_type": "code",
   "execution_count": 9,
   "id": "645cbc81-b23d-4a30-ab4a-d02b6251c4a0",
   "metadata": {
    "tags": []
   },
   "outputs": [
    {
     "name": "stdout",
     "output_type": "stream",
     "text": [
      "0.14410020171824975\n",
      "0.9984722762470865\n"
     ]
    }
   ],
   "source": [
    "# Create and fit ridge regression model\n",
    "ridge_model = Ridge()\n",
    "ridge_model.fit(X_train, y_train)\n",
    "ridge_predictions = ridge_model.predict(X_test)\n",
    "\n",
    "# Calculate rmse and r 2\n",
    "\n",
    "ridge_rmse = np.sqrt(mean_squared_error(y_test, ridge_predictions))\n",
    "ridge_r2 = r2_score(y_test, ridge_predictions)\n",
    "\n",
    "print(ridge_rmse)\n",
    "print(ridge_r2)\n",
    "\n",
    "# Results are super high and super low"
   ]
  },
  {
   "cell_type": "code",
   "execution_count": 11,
   "id": "34b28fe6-2520-4e15-8884-e8b1b87c345b",
   "metadata": {
    "tags": []
   },
   "outputs": [
    {
     "name": "stdout",
     "output_type": "stream",
     "text": [
      "1.2984978990079017\n",
      "0.8759496036905758\n"
     ]
    }
   ],
   "source": [
    "# Create and fit Lasso regression model\n",
    "lasso_model = Lasso()\n",
    "lasso_model.fit(X_train, y_train)\n",
    "lasso_predictions = lasso_model.predict(X_test)\n",
    "\n",
    "# Calculate RMSE and R2 for lasso regression\n",
    "lasso_rmse = np.sqrt(mean_squared_error(y_test, lasso_predictions))\n",
    "lasso_r2 = r2_score(y_test, lasso_predictions)\n",
    "\n",
    "\n",
    "print(lasso_rmse)\n",
    "print(lasso_r2)\n",
    "# Calculate RMSE and R^2 for lasso regression"
   ]
  },
  {
   "cell_type": "code",
   "execution_count": null,
   "id": "87e844bf-627f-4303-b94e-f843e85eb893",
   "metadata": {},
   "outputs": [],
   "source": [
    "# Visualize alphas against rmse for lasso and ridge"
   ]
  },
  {
   "cell_type": "markdown",
   "id": "1658639f-7d9f-4ca5-92e8-4fb13a645050",
   "metadata": {},
   "source": [
    "Coefficient bar plot\n"
   ]
  },
  {
   "cell_type": "code",
   "execution_count": 17,
   "id": "8e588fcc-9d39-4f28-afd9-d174411422ed",
   "metadata": {
    "tags": []
   },
   "outputs": [
    {
     "data": {
      "image/png": "[encoded data removed]",
      "text/plain": [
       "<Figure size 1500x500 with 3 Axes>"
      ]
     },
     "metadata": {},
     "output_type": "display_data"
    }
   ],
   "source": [
    "alphas = [0.1, 1, 10]\n",
    "data = []\n",
    "\n",
    "for alpha in alphas:\n",
    "    ridge = Ridge(alpha = alpha).fit(X,y)\n",
    "    lasso = Lasso(alpha = alpha).fit(X,y)\n",
    "    \n",
    "    data.append(pd.DataFrame({\n",
    "        'Ridge': ridge.coef_,\n",
    "        'Lasso': lasso.coef_\n",
    "    }, index = ['X1', 'X2', 'X1_corr', 'X2_corr', 'Noise1', 'Noise2']))\n",
    "                \n",
    "fig, axes = plt.subplots(1, 3, figsize = (15, 5), sharey = True)\n",
    "for i,df in enumerate(data):\n",
    "    df.plot.bar(ax = axes[i], width = 0.8)\n",
    "    axes[i].set_title(f'Alphas = {alphas[i]}')\n",
    "    axes[i].set_xticklabels(df.index, rotation = 45)\n",
    "\n",
    "    plt.show()\n",
    "                \n"
   ]
  },
  {
   "cell_type": "code",
   "execution_count": 36,
   "id": "2e19d2e2-f70f-4eaa-a394-14c7da193d67",
   "metadata": {
    "tags": []
   },
   "outputs": [
    {
     "data": {
      "application/vnd.jupyter.widget-view+json": {
       "model_id": "c0d1f712a74c46cea90d5f550eb28c65",
       "version_major": 2,
       "version_minor": 0
      },
      "text/plain": [
       "interactive(children=(FloatLogSlider(value=1.0, description='Alpha', max=3.0, min=-3.0), Dropdown(description=…"
      ]
     },
     "metadata": {},
     "output_type": "display_data"
    },
    {
     "data": {
      "text/plain": [
       "<function __main__.update_alphas(alpha, model_type)>"
      ]
     },
     "execution_count": 36,
     "metadata": {},
     "output_type": "execute_result"
    }
   ],
   "source": [
    "# Funcrion for generarating plot\n",
    "def update_alphas(alpha, model_type):\n",
    "    if model_type == 'Lasso':\n",
    "        model = Lasso(alpha = alpha)\n",
    "    else:\n",
    "        model = Ridge(alpha = alpha)\n",
    "        \n",
    "    model.fit(X_train, y_train)\n",
    "    y_pred = model.predict(X_test)\n",
    "    \n",
    "    rmse = np.sqrt(mean_squared_error(y_test, y_pred))\n",
    "    r2 = r2_score(y_test, y_pred)\n",
    "    \n",
    "    \n",
    "    plt.figure(figsize = (10,5))\n",
    "    plt.scatter(y_test, y_pred, color = 'crimson', alpha = 0.5, label = f'Predictions (alpha = {alpha})')\n",
    "    plt.plot([y_test.min(), y_test.max()], [y_test.min(), y_test.max()], 'k--', lw = 2)\n",
    "    plt.title(f'{model_type} Regression: Predictions vs Actuals (alpha = {alpha})')\n",
    "    plt.xlabel('Actual Values')\n",
    "    plt.ylabel('Predictions')\n",
    "    plt.legend()\n",
    "    plt.figtext(0.5, -0.1, f'MSE: {rmse:.4f}, R2: {r2:.4f}', ha='center', fontsize=12, bbox={\"facecolor\": \"lightblue\"})\n",
    "    plt.show()\n",
    "    \n",
    "# Create interactive widgets\n",
    "alpha_slider = FloatLogSlider(value = 1.0, base = 10, min = -3, max = 3, step = 0.1, description= 'Alpha')\n",
    "model_selector = {'Lasso Model': 'Lasso', 'Ridge': 'Ridge'}\n",
    "\n",
    "interact(update_alphas, alpha = alpha_slider, model_type = model_selector)"
   ]
  }
 ],
 "metadata": {
  "kernelspec": {
   "display_name": "Anaconda 3 (EDS232)",
   "language": "python",
   "name": "ml-env"
  },
  "language_info": {
   "codemirror_mode": {
    "name": "ipython",
    "version": 3
   },
   "file_extension": ".py",
   "mimetype": "text/x-python",
   "name": "python",
   "nbconvert_exporter": "python",
   "pygments_lexer": "ipython3",
   "version": "3.10.16"
  }
 },
 "nbformat": 4,
 "nbformat_minor": 5
}
