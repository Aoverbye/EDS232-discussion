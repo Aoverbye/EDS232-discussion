{
 "cells": [
  {
   "cell_type": "code",
   "execution_count": 1,
   "id": "cd495014-42c3-4703-9f2c-8226d286a44d",
   "metadata": {
    "tags": []
   },
   "outputs": [],
   "source": [
    "import pandas as pd\n",
    "import numpy as np\n",
    "from sklearn.model_selection import train_test_split\n",
    "from sklearn.feature_extraction.text import TfidfVectorizer, CountVectorizer\n",
    "from sklearn.linear_model import LogisticRegression\n",
    "from sklearn.metrics import classification_report, f1_score, accuracy_score, confusion_matrix\n",
    "from sklearn.metrics import roc_curve, auc, roc_auc_score\n",
    "import re\n",
    "import string\n",
    "import matplotlib.pyplot as plt\n",
    "import seaborn as sns"
   ]
  },
  {
   "cell_type": "code",
   "execution_count": 4,
   "id": "da82866a-f059-4757-98f9-41f4d7a78b5f",
   "metadata": {
    "tags": []
   },
   "outputs": [
    {
     "name": "stdout",
     "output_type": "stream",
     "text": [
      "Hurricane_Irene_and_the_Hudson_River_do.xlsx  national_park_species.csv\n",
      "README.md                                     week2discussion.ipynb\n",
      "\u001b[0m\u001b[01;34mdata\u001b[0m/                                         week3_discussion.ipynb\n",
      "discussion_week1.ipynb                        week4_discussion.ipynb\n",
      "hur.xlsx                                      week6_discussion.ipynb\n",
      "huricane.csv                                  week7_discussion.ipynb\n"
     ]
    }
   ],
   "source": [
    "ls"
   ]
  },
  {
   "cell_type": "code",
   "execution_count": 9,
   "id": "91bd9ddf-488b-42c8-a94c-a25e94e89d5f",
   "metadata": {
    "tags": []
   },
   "outputs": [],
   "source": [
    "# Read in the data\n",
    "disaster = pd.read_csv('data/disaster.csv')"
   ]
  },
  {
   "cell_type": "code",
   "execution_count": 10,
   "id": "8bdd3470-417e-4a67-90ee-797f8d5c298c",
   "metadata": {
    "tags": []
   },
   "outputs": [],
   "source": [
    "# Cleaning text data\n",
    "def preprocess(text):\n",
    "    text = text.lower() \n",
    "    text=  text.strip() # Removing leading and trailing spaces \n",
    "    text=  re.sub(r'<.*?>','', text) # Removes HTML syntax\n",
    "    text = re.sub(r'[^\\w\\s]','',text)  # Removes punction\n",
    "    text = re.sub(r'\\[[0-9]*\\]',' ',text) # Remove reference numbers\n",
    "    text = re.sub(r'\\d',' ',text)  # Remove digits\n",
    "    text = re.sub(r'\\s+', ' ', text) # Colasping multiple spaces into a single space so things arent double spaced\n",
    "    return text"
   ]
  },
  {
   "cell_type": "code",
   "execution_count": 12,
   "id": "a527f77b-1ca4-4170-bbce-c180fc507f81",
   "metadata": {
    "tags": []
   },
   "outputs": [
    {
     "data": {
      "text/html": [
       "<div>\n",
       "<style scoped>\n",
       "    .dataframe tbody tr th:only-of-type {\n",
       "        vertical-align: middle;\n",
       "    }\n",
       "\n",
       "    .dataframe tbody tr th {\n",
       "        vertical-align: top;\n",
       "    }\n",
       "\n",
       "    .dataframe thead th {\n",
       "        text-align: right;\n",
       "    }\n",
       "</style>\n",
       "<table border=\"1\" class=\"dataframe\">\n",
       "  <thead>\n",
       "    <tr style=\"text-align: right;\">\n",
       "      <th></th>\n",
       "      <th>id</th>\n",
       "      <th>keyword</th>\n",
       "      <th>location</th>\n",
       "      <th>text</th>\n",
       "      <th>target</th>\n",
       "      <th>clean_text</th>\n",
       "    </tr>\n",
       "  </thead>\n",
       "  <tbody>\n",
       "    <tr>\n",
       "      <th>0</th>\n",
       "      <td>1</td>\n",
       "      <td>NaN</td>\n",
       "      <td>NaN</td>\n",
       "      <td>Our Deeds are the Reason of this #earthquake M...</td>\n",
       "      <td>1</td>\n",
       "      <td>our deeds are the reason of this earthquake ma...</td>\n",
       "    </tr>\n",
       "    <tr>\n",
       "      <th>1</th>\n",
       "      <td>4</td>\n",
       "      <td>NaN</td>\n",
       "      <td>NaN</td>\n",
       "      <td>Forest fire near La Ronge Sask. Canada</td>\n",
       "      <td>1</td>\n",
       "      <td>forest fire near la ronge sask canada</td>\n",
       "    </tr>\n",
       "    <tr>\n",
       "      <th>2</th>\n",
       "      <td>5</td>\n",
       "      <td>NaN</td>\n",
       "      <td>NaN</td>\n",
       "      <td>All residents asked to 'shelter in place' are ...</td>\n",
       "      <td>1</td>\n",
       "      <td>all residents asked to shelter in place are be...</td>\n",
       "    </tr>\n",
       "    <tr>\n",
       "      <th>3</th>\n",
       "      <td>6</td>\n",
       "      <td>NaN</td>\n",
       "      <td>NaN</td>\n",
       "      <td>13,000 people receive #wildfires evacuation or...</td>\n",
       "      <td>1</td>\n",
       "      <td>people receive wildfires evacuation orders in...</td>\n",
       "    </tr>\n",
       "    <tr>\n",
       "      <th>4</th>\n",
       "      <td>7</td>\n",
       "      <td>NaN</td>\n",
       "      <td>NaN</td>\n",
       "      <td>Just got sent this photo from Ruby #Alaska as ...</td>\n",
       "      <td>1</td>\n",
       "      <td>just got sent this photo from ruby alaska as s...</td>\n",
       "    </tr>\n",
       "  </tbody>\n",
       "</table>\n",
       "</div>"
      ],
      "text/plain": [
       "   id keyword location                                               text  \\\n",
       "0   1     NaN      NaN  Our Deeds are the Reason of this #earthquake M...   \n",
       "1   4     NaN      NaN             Forest fire near La Ronge Sask. Canada   \n",
       "2   5     NaN      NaN  All residents asked to 'shelter in place' are ...   \n",
       "3   6     NaN      NaN  13,000 people receive #wildfires evacuation or...   \n",
       "4   7     NaN      NaN  Just got sent this photo from Ruby #Alaska as ...   \n",
       "\n",
       "   target                                         clean_text  \n",
       "0       1  our deeds are the reason of this earthquake ma...  \n",
       "1       1              forest fire near la ronge sask canada  \n",
       "2       1  all residents asked to shelter in place are be...  \n",
       "3       1   people receive wildfires evacuation orders in...  \n",
       "4       1  just got sent this photo from ruby alaska as s...  "
      ]
     },
     "execution_count": 12,
     "metadata": {},
     "output_type": "execute_result"
    }
   ],
   "source": [
    "disaster['clean_text'] = disaster['text'].apply(preprocess)\n",
    "disaster.head()"
   ]
  },
  {
   "cell_type": "markdown",
   "id": "30fc3546-dd33-4a60-8f16-5c436151524e",
   "metadata": {},
   "source": [
    "What about stop words?"
   ]
  },
  {
   "cell_type": "code",
   "execution_count": 22,
   "id": "428bb401-d839-498a-8563-eb6d6b31a9f6",
   "metadata": {
    "tags": []
   },
   "outputs": [
    {
     "name": "stdout",
     "output_type": "stream",
     "text": [
      "Remaining words:\n",
      "['5th' 'awesome' 'capstone' 'crush' 'march' 'presentation' 'team']\n"
     ]
    }
   ],
   "source": [
    "# Proff that tifidf veoctorize exclude \"Stopwords\" words \n",
    "# That don't hold value. We only want words that will predict \n",
    "# Our variable\n",
    "stop_words = [\"On March 5th, I will crush my capstone presentation with my awesome team\"]\n",
    "\n",
    "vectorizer_english = TfidfVectorizer(stop_words = \"english\")\n",
    "X_english = vectorizer_english.fit_transform(stop_words)\n",
    "\n",
    "print(\"Remaining words:\")\n",
    "print(vectorizer_english.get_feature_names_out())\n",
    "\n",
    "# Stop words are like a dictionary or like a for loop?\n",
    "# Laymanization "
   ]
  },
  {
   "cell_type": "markdown",
   "id": "42b7b84b-1909-4610-b61c-a074825285c5",
   "metadata": {},
   "source": [
    "### Logistic Regression"
   ]
  },
  {
   "cell_type": "code",
   "execution_count": 28,
   "id": "70fbaf96-53de-4444-8f90-60301bfa301d",
   "metadata": {
    "tags": []
   },
   "outputs": [],
   "source": [
    "# Split into test and train\n",
    "X_train, X_test, y_train, y_test = train_test_split(disaster['clean_text'], disaster['target'], test_size = 0.3, random_state = 42)"
   ]
  },
  {
   "cell_type": "code",
   "execution_count": 30,
   "id": "102de72d-5e38-4879-bd39-250c5a9dba92",
   "metadata": {
    "tags": []
   },
   "outputs": [],
   "source": [
    "# Vectorize words\n",
    "tfidf_vectorizer = TfidfVectorizer(stop_words = \"english\")\n",
    "X_train_tfidf = tfidf_vectorizer.fit_transform(X_train)\n",
    "X_test_tfidf = tfidf_vectorizer.transform(X_test)"
   ]
  },
  {
   "cell_type": "code",
   "execution_count": 32,
   "id": "b101b83c-37c6-47cf-a058-ab62fecacfc2",
   "metadata": {
    "tags": []
   },
   "outputs": [],
   "source": [
    "lr_model = LogisticRegression(random_state = 42)\n",
    "lr_model.fit(X_train_tfidf, y_train)\n",
    "y_pred = lr_model.predict(X_test_tfidf)"
   ]
  },
  {
   "cell_type": "code",
   "execution_count": 34,
   "id": "9cffc0c1-4ab8-4e41-839c-4ddcbe2b556f",
   "metadata": {
    "tags": []
   },
   "outputs": [
    {
     "name": "stdout",
     "output_type": "stream",
     "text": [
      "Accuracy: 0.803415061295972\n"
     ]
    },
    {
     "data": {
      "image/png": "[encoded data removed]",
      "text/plain": [
       "<Figure size 800x600 with 2 Axes>"
      ]
     },
     "metadata": {},
     "output_type": "display_data"
    }
   ],
   "source": [
    "accuracy = accuracy_score(y_test, y_pred)\n",
    "print(f\"Accuracy: {accuracy}\")\n",
    "\n",
    "cm = confusion_matrix(y_test,y_pred)\n",
    "plt.figure(figsize = (8,6))\n",
    "sns.heatmap(cm, annot = True, fmt = 'd', cmap = \"GnBu\",\n",
    "           xticklabels = [\"Not Disaster, Distaster\"],\n",
    "            yticklabels = [\"Not Disaster, Distaster\"]),\n",
    "plt.show()"
   ]
  },
  {
   "cell_type": "code",
   "execution_count": 38,
   "id": "38e09ed2-607f-4c94-a4d7-3b82eb3e8464",
   "metadata": {
    "tags": []
   },
   "outputs": [
    {
     "name": "stdout",
     "output_type": "stream",
     "text": [
      "Text: BREAKING MASSIVE EARTHQUAKE HITS THE COAST\n",
      "Predictions: Real Disaster\n",
      "Text: I love watching disaster movies on netflix\n",
      "Predictions: Not a real disaster\n",
      "Text: Thousands evacuated as hurrican approaches\n",
      "Predictions: Real Disaster\n",
      "Text: Thhiiiis iss aa disssssaster\n",
      "Predictions: Not a real disaster\n",
      "Text: It's windy!\n",
      "Predictions: Not a real disaster\n",
      "Text: The palisades fire has damaged over 7,000 structures\n",
      "Predictions: Not a real disaster\n",
      "Text: I broke my tooth on a jawbreaker\n",
      "Predictions: Not a real disaster\n"
     ]
    }
   ],
   "source": [
    "new_text = [\n",
    "    \"BREAKING MASSIVE EARTHQUAKE HITS THE COAST\",\n",
    "    \"I love watching disaster movies on netflix\",\n",
    "    \"Thousands evacuated as hurrican approaches\",\n",
    "    \"Thhiiiis iss aa disssssaster\",\n",
    "    \"It's windy!\",\n",
    "    \"The palisades fire has damaged over 7,000 structures\",\n",
    "    \"I broke my tooth on a jawbreaker\",\n",
    "]\n",
    "\n",
    "\n",
    "\n",
    "cleaned_new_text = [preprocess(text) for text in new_text]\n",
    "\n",
    "\n",
    "new_features = tfidf_vectorizer.transform(cleaned_new_text)\n",
    "\n",
    "predictions = lr_model.predict(new_features)\n",
    "\n",
    "for text,pred in zip(new_text, predictions):\n",
    "    print(f\"Text: {text}\")\n",
    "    print(f\"Predictions: {'Real Disaster' if pred == 1 else 'Not a real disaster'}\")"
   ]
  }
 ],
 "metadata": {
  "kernelspec": {
   "display_name": "Anaconda 3 (EDS232)",
   "language": "python",
   "name": "ml-env"
  },
  "language_info": {
   "codemirror_mode": {
    "name": "ipython",
    "version": 3
   },
   "file_extension": ".py",
   "mimetype": "text/x-python",
   "name": "python",
   "nbconvert_exporter": "python",
   "pygments_lexer": "ipython3",
   "version": "3.10.16"
  }
 },
 "nbformat": 4,
 "nbformat_minor": 5
}
